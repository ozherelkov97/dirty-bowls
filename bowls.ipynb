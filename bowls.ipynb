{
 "cells": [
  {
   "cell_type": "markdown",
   "metadata": {},
   "source": [
    "## Задача двухклассовой классификации. "
   ]
  },
  {
   "cell_type": "markdown",
   "metadata": {},
   "source": [
    "Столь малый объем обучающей выборки не позволяет нам обучить нейросеть с нуля. Я использовал предобученную модель ResNet50 (без последнего полносвязного слоя, делающего предсказания), и в процессе обучения ее веса были зафиксированы. Последний слой в моей модели составляют две softmax функции, так как число классов в нашей задаче 2. \n",
    "\n",
    "Обучающую выборку я предварительно аугментировал, увеличив ее объем в 24 раза. Трансформации: повороты на 90 градусов, зеркальное отражение + каждая картинка осветлена и затемнена с увеличенным контрастом \n",
    "Количество эпох сильно влияло на accuracy на тестовой выборке. Наилучшего результата я добился на трех эпохах.\n",
    "\n",
    "Далее начиналось переобучение, так как accuracy на KAGGLE снижалось. Хорошую валидационную выборку из обучающей выборки создать не удалось, так как объем выборки и так очень маленький, к тому же в ней были повторяющиеся тарелки, и не было многих тарелок, содержащихся в тесте, поэтому смысла в ее создании я не увидел."
   ]
  },
  {
   "cell_type": "markdown",
   "metadata": {},
   "source": [
    "<img src=\"augmentation/cleaned/cleaned_0005.jpg1.jpg\"><img src=\"augmentation/cleaned/cleaned_0005.jpg2.jpg\"><img src=\"augmentation/cleaned/cleaned_0005.jpg3.jpg\">"
   ]
  },
  {
   "cell_type": "markdown",
   "metadata": {},
   "source": [
    "## Импорт необходимых библиотек"
   ]
  },
  {
   "cell_type": "code",
   "execution_count": 1,
   "metadata": {},
   "outputs": [
    {
     "name": "stderr",
     "output_type": "stream",
     "text": [
      "Using TensorFlow backend.\n"
     ]
    }
   ],
   "source": [
    "from keras.preprocessing.image import ImageDataGenerator\n",
    "from keras.layers import Dense\n",
    "from keras.models import Sequential\n",
    "from keras.applications import ResNet50\n",
    "from keras.applications.imagenet_utils import preprocess_input\n",
    "import pandas as pd\n",
    "import numpy as np\n",
    "import os\n",
    "\n",
    "path = os.getcwd()"
   ]
  },
  {
   "cell_type": "markdown",
   "metadata": {},
   "source": [
    "## Создание объектов ImageDataGenerator для обучающей и тестовой выборок, упрощающих input картинок в модель."
   ]
  },
  {
   "cell_type": "code",
   "execution_count": 2,
   "metadata": {},
   "outputs": [
    {
     "name": "stdout",
     "output_type": "stream",
     "text": [
      "Found 960 images belonging to 2 classes.\n",
      "Found 660 images belonging to 1 classes.\n"
     ]
    }
   ],
   "source": [
    "datagen = ImageDataGenerator(preprocessing_function = preprocess_input) \n",
    "\n",
    "train_generator = datagen.flow_from_directory(os.path.join(path, 'augmentation'), \n",
    "                                        target_size = (341, 256),\n",
    "                                       batch_size = 32,\n",
    "                                       class_mode = 'categorical')\n",
    "\n",
    "test_generator = datagen.flow_from_directory(os.path.join(path, 'test'), \n",
    "                                        target_size = (341, 256),\n",
    "                                       batch_size = 33,\n",
    "                                       class_mode = 'categorical',\n",
    "                                      shuffle = False)"
   ]
  },
  {
   "cell_type": "markdown",
   "metadata": {},
   "source": [
    "## Загружаем из файла веса предобученной модели ResNet50"
   ]
  },
  {
   "cell_type": "code",
   "execution_count": 3,
   "metadata": {},
   "outputs": [
    {
     "name": "stdout",
     "output_type": "stream",
     "text": [
      "WARNING:tensorflow:From /home/denis/anaconda3/lib/python3.7/site-packages/tensorflow/python/framework/op_def_library.py:263: colocate_with (from tensorflow.python.framework.ops) is deprecated and will be removed in a future version.\n",
      "Instructions for updating:\n",
      "Colocations handled automatically by placer.\n"
     ]
    }
   ],
   "source": [
    "resnet = ResNet50(include_top = False, \n",
    "                   weights = 'resnet50_weights_tf_dim_ordering_tf_kernels_notop.h5',\n",
    "                  pooling = 'avg')"
   ]
  },
  {
   "cell_type": "markdown",
   "metadata": {},
   "source": [
    "## Добавляем к ResNet связный слой из двух softmax функций."
   ]
  },
  {
   "cell_type": "code",
   "execution_count": 4,
   "metadata": {},
   "outputs": [],
   "source": [
    "model = Sequential()\n",
    "model.add(resnet)\n",
    "model.add(Dense(2, activation = 'softmax'))\n",
    "model.layers[0].trainable = False\n",
    "model.compile(optimizer = 'sgd', loss = 'categorical_crossentropy', metrics=['accuracy'])"
   ]
  },
  {
   "cell_type": "markdown",
   "metadata": {},
   "source": [
    "## Обучение модели. Количество эпох по-разному отражается на финальном качестве модели. Наилучшего результата (0.979) модель достигала после обучения на 3 эпохах."
   ]
  },
  {
   "cell_type": "code",
   "execution_count": 5,
   "metadata": {},
   "outputs": [
    {
     "name": "stdout",
     "output_type": "stream",
     "text": [
      "WARNING:tensorflow:From /home/denis/anaconda3/lib/python3.7/site-packages/tensorflow/python/ops/math_ops.py:3066: to_int32 (from tensorflow.python.ops.math_ops) is deprecated and will be removed in a future version.\n",
      "Instructions for updating:\n",
      "Use tf.cast instead.\n",
      "Epoch 1/3\n",
      "30/30 [==============================] - 331s 11s/step - loss: 0.3226 - acc: 0.8896\n",
      "Epoch 2/3\n",
      "30/30 [==============================] - 327s 11s/step - loss: 0.1118 - acc: 0.9896\n",
      "Epoch 3/3\n",
      "30/30 [==============================] - 309s 10s/step - loss: 0.0779 - acc: 0.9948\n"
     ]
    },
    {
     "data": {
      "text/plain": [
       "<keras.callbacks.History at 0x7ffb8ca950f0>"
      ]
     },
     "execution_count": 5,
     "metadata": {},
     "output_type": "execute_result"
    }
   ],
   "source": [
    "model.fit_generator(train_generator, steps_per_epoch = 30, epochs = 3)"
   ]
  },
  {
   "cell_type": "markdown",
   "metadata": {},
   "source": [
    "## Делаем предсказания и выводим результаты в csv таблицу"
   ]
  },
  {
   "cell_type": "code",
   "execution_count": 6,
   "metadata": {},
   "outputs": [],
   "source": [
    "predict = model.predict_generator(test_generator, steps = 20).argmax(axis=-1)"
   ]
  },
  {
   "cell_type": "code",
   "execution_count": 8,
   "metadata": {},
   "outputs": [],
   "source": [
    "aydi = []\n",
    "labels = []\n",
    "for i in range(0, 660):\n",
    "    aydi.append(str(i).zfill(4))\n",
    "    if predict[i] == 1: \n",
    "        labels.append('dirty')\n",
    "    else:\n",
    "        labels.append('cleaned')\n",
    "pd.DataFrame({'id': aydi, 'label': labels}).to_csv(\"out.csv\", index = False, index_label = False)"
   ]
  },
  {
   "cell_type": "code",
   "execution_count": null,
   "metadata": {},
   "outputs": [],
   "source": []
  }
 ],
 "metadata": {
  "kernelspec": {
   "display_name": "Python 3",
   "language": "python",
   "name": "python3"
  },
  "language_info": {
   "codemirror_mode": {
    "name": "ipython",
    "version": 3
   },
   "file_extension": ".py",
   "mimetype": "text/x-python",
   "name": "python",
   "nbconvert_exporter": "python",
   "pygments_lexer": "ipython3",
   "version": "3.7.1"
  }
 },
 "nbformat": 4,
 "nbformat_minor": 2
}
